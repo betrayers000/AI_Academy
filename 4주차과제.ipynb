{
  "nbformat": 4,
  "nbformat_minor": 0,
  "metadata": {
    "colab": {
      "name": "4주차과제.ipynb",
      "provenance": [],
      "collapsed_sections": []
    },
    "kernelspec": {
      "name": "python3",
      "display_name": "Python 3"
    }
  },
  "cells": [
    {
      "cell_type": "markdown",
      "metadata": {
        "id": "wxkL6PjwsI6L",
        "colab_type": "text"
      },
      "source": [
        "# 4주차 과제\n",
        "- 용어 정리\n",
        "- 딥러닝 강의 클론 코딩\n",
        "- 딥러닝 순전파 & 역전파 계산"
      ]
    },
    {
      "cell_type": "markdown",
      "metadata": {
        "id": "ixEtDe6_uGgI",
        "colab_type": "text"
      },
      "source": [
        "## 1. 용어 정리\n",
        "\n",
        "다음 제시된 단어의 정의(설명)를 정리하여 작성 하세요.\n",
        "\n",
        "* 2문장 이상 작성 해 주세요. \n",
        "* 주제(단어)와 크게 벗어나지만 않는다면 정답처리 됩니다.\n",
        "* 강의 뿐 아니라 기타 레퍼런스를 참고하여 작성하셔도 됩니다. (기타 레퍼런스를 참고하신 경우, 해당 레퍼런스를 정리하여 하단에 작성해 주세요.)\n"
      ]
    },
    {
      "cell_type": "markdown",
      "metadata": {
        "id": "0lfwat8eurKZ",
        "colab_type": "text"
      },
      "source": [
        "__(예시)__\n",
        "### 심층 신경망\n",
        ": 입력층과 출력층 사이에 여러 개의 은닉층들로 이뤄진 인공신경망이다. 심층 신경망은 일반적으로 인공신경망과 마찬가지로 복잡한 비선형 관계들을 모델링 할 수 있다. 신층신경망의 목적은 분류 및 수치예측을 하기 위함이고 이미지 트레이닝이나 문자인식과 같은 분야에서 매우 유용하게 쓰이고 있다."
      ]
    },
    {
      "cell_type": "markdown",
      "metadata": {
        "id": "Y8YJNKG_v65A",
        "colab_type": "text"
      },
      "source": [
        "### MCP 뉴런\n",
        ": 1943년 매컬럭과 월터 피츠가 발표한 뇌세포의 개념이다. 신겨세포를 간단한 바이너리 출력을 갖는 놀리게이트로 설명하였다. 수상돌기에서 복수의 화학적 신호를 받아 세포체를 통해 통합해 전기신호로 변경하고 전기신호가 임계치를 넘어서면 축색돌기를 통해 다시 신호를 보내는 구조로 되어있다.\n",
        "\n",
        "### 퍼셉트론\n",
        ": 뉴런을 본따 만든 알고리즘이다. 다수의 신호(input)을 입력받아 하나의 신호(output)을 출력한다. 각 입력신호의 고유의 가중치(w)가 부여된다. 퍼셉트론은 단순한 모델이기 때문에 선형으로 분리되지 않는 문제에 대해서는 해결이 불가능하다. 하지만 다중 퍼셉트론이 출현하면서 해당문제에 대해 해결할수 있게 되었다.\n",
        "\n",
        "### 역전파\n",
        ": 뉴런의 가중치를 효율적으로 조정하기 위해 개발된 알고리즘으로 출력층에서부터 입력층까지 거꾸로 오차를 전파시켜서 가장 적합한 가중치를 찾는 방법이다. 즉 지도데이터와 출력데이터의 오차를 입력층까지 전파시키는 것이다.\n",
        "\n",
        "### 강화학습\n",
        ": 보상을 최대화하는 의사결정 전략으로 순차적인 행동들을 알아나가는 방법이다. 의사결정을 하는 역할을 하는 에이전트와 에이전트의 의사결정을 반영하여 에이전트에게 반영된 정보를 주는 환경이 있다. 행동(의사 결정을 통해 취할수있는 행동으로 환경에 따라 이산적행동과 연속적 행동이 있다.), 상태(의사 결정을 하기위해 사용되는 관측값, 행동, 보상을 가공한 정보) , 관측(환경에서 제공해주는 정보로써 시각적 관츠고가 수치적 관측의 형태로 제공된다), 보상함수(에이전트가 얻을 수있는 보상의 기대값을 함수화 시킨 것), 감가율(0~1사이의 값으로 1에 가까울수록 미래의 보상에 더많은 가중치를 준다)\n",
        "\n",
        "### 과적합\n",
        ": 모델이 훈련데이터와 실제 데이터간의 예측의 차이가 큰 경우로써 훈련데이터에 잘맞게 훈련되어서 실제 데이터를 입력하였을때 좋은 결과가 나오지 않는 경우이다. \n",
        "\n",
        "### 차원의 저주\n",
        ": 고정된 크기의 훈련 데이터셋 차원이 늘어남에 따라 특성 공간이 점점 회소해 지는 현상으로써 올바른 변수를 선택하고 차원 축소 기법을 사용해주면 방지할수있다.\n"
      ]
    },
    {
      "cell_type": "markdown",
      "metadata": {
        "id": "d-zfFXLCy6jD",
        "colab_type": "text"
      },
      "source": [
        "## 2. 딥러닝 강의 클론 코딩\n",
        "\n",
        "####__퍼셉트론 구조 구현하기__ \n",
        "딥러닝 강의(__딥러닝 원리[1] 3:15 ~ 5:15 부분__)를 보고 코드를 따라 치며 출력 결과를 만드세요.\n",
        " \n",
        "\n",
        "* 하나의 코드셀에 해당 코드를 한번에 다 적어서 실행해주세요 (__그렇게 하지 않을 경우, 아래 이미지와 같은 출력값이 나오지 않을 수 있습니다__)\n",
        "\n",
        "*__주의!__ 실제로 코딩해서 출력해보면 강의에 나온 출력 결과와 다르게 나옵니다!!\n"
      ]
    },
    {
      "cell_type": "markdown",
      "metadata": {
        "id": "wcc5mzI9oZ7r",
        "colab_type": "text"
      },
      "source": [
        "![대체 텍스트](https://www.notion.so/image/https%3A%2F%2Fs3-us-west-2.amazonaws.com%2Fsecure.notion-static.com%2F0cceeed0-0235-4b0f-af88-0b8c377d5b4b%2F_2020-06-09__9.35.23.png?table=block&id=88fd8912-9356-49a4-9fda-a1a63fe96ea9&width=2870&cache=v2)"
      ]
    },
    {
      "cell_type": "code",
      "metadata": {
        "id": "he6xXW2gsWq4",
        "colab_type": "code",
        "outputId": "ffec8e1f-b7ce-42d6-b8c7-3a99d6f9d51d",
        "colab": {
          "base_uri": "https://localhost:8080/",
          "height": 204
        }
      },
      "source": [
        "import tensorflow as tf\n",
        "tf.compat.v1.set_random_seed(2020)\n",
        "x = 1\n",
        "y = 0\n",
        "w = tf.random.normal([1], 0, 1)\n",
        "\n",
        "import math\n",
        "def sigmoid(x):\n",
        "  return 1/(1+ math.exp(-x))\n",
        "\n",
        "output = sigmoid(x*w)\n",
        "print(output)\n",
        "for i in range(1000):\n",
        "  output = sigmoid(x*w)\n",
        "  error = y -output\n",
        "  w = w+ x*0.1 * error\n",
        "\n",
        "  if i % 100 == 99:\n",
        "    print(f\"학습 횟수 : {i} Error:{error} 예측결과:{output}\")"
      ],
      "execution_count": 0,
      "outputs": [
        {
          "output_type": "stream",
          "text": [
            "0.47477188589261\n",
            "학습 횟수 : 99 Error:-0.10010598284299604 예측결과:0.10010598284299604\n",
            "학습 횟수 : 199 Error:-0.05178399422833116 예측결과:0.05178399422833116\n",
            "학습 횟수 : 299 Error:-0.034590451977903586 예측결과:0.034590451977903586\n",
            "학습 횟수 : 399 Error:-0.02588962752851373 예측결과:0.02588962752851373\n",
            "학습 횟수 : 499 Error:-0.020658699939863617 예측결과:0.020658699939863617\n",
            "학습 횟수 : 599 Error:-0.017174253993457355 예측결과:0.017174253993457355\n",
            "학습 횟수 : 699 Error:-0.014689506449480992 예측결과:0.014689506449480992\n",
            "학습 횟수 : 799 Error:-0.012829497265431342 예측결과:0.012829497265431342\n",
            "학습 횟수 : 899 Error:-0.011385568271837804 예측결과:0.011385568271837804\n",
            "학습 횟수 : 999 Error:-0.010232493309882492 예측결과:0.010232493309882492\n"
          ],
          "name": "stdout"
        }
      ]
    },
    {
      "cell_type": "markdown",
      "metadata": {
        "id": "kr0HVRk8fOom",
        "colab_type": "text"
      },
      "source": [
        "## 3. 딥러닝 순전파 & 역전파 계산\n",
        "\n",
        "딥러닝 강의(__딥러닝 원리[2] 0:55 ~ 4:32 부분__)에 나오는 순전파 & 역전파 계산에 대한 문제 입니다.\n",
        "\n",
        "해당 영상과 다음 이미지를 참고하여 다음 2가지 물음에 답하세요.\n",
        "\n",
        "\n",
        "(1) 학습률이 0.2 일 경우 출력층의 노드값\n",
        "\n",
        "(2) 학습률이 0.1과 0.2 중 기대출력값이 지도데이터 \"3\"과 더 가까운 학습률은?"
      ]
    },
    {
      "cell_type": "markdown",
      "metadata": {
        "id": "CpwPFWhOUzww",
        "colab_type": "text"
      },
      "source": [
        "![대체 텍스트](https://www.notion.so/image/https%3A%2F%2Fs3-us-west-2.amazonaws.com%2Fsecure.notion-static.com%2Ff54dfd45-92ec-44ae-9616-6949d2484a45%2F_2020-06-10__5.22.03.png?table=block&id=ee05da89-3ceb-4ad9-a2d3-c9f68d24d1d9&width=3580&cache=v2)"
      ]
    },
    {
      "cell_type": "markdown",
      "metadata": {
        "id": "B2OVY7w5U3CI",
        "colab_type": "text"
      },
      "source": [
        "## (1) 학습률이 0.2 일 경우 출력층의 노드값 : 1.68\n",
        "## (2) 학습률이 0.1과 0.2 중 기대출력값이 지도데이터 \"3\"과 더 가까운 학습률은? : 0.1"
      ]
    },
    {
      "cell_type": "code",
      "metadata": {
        "id": "uLskaLFz10ed",
        "colab_type": "code",
        "colab": {}
      },
      "source": [
        ""
      ],
      "execution_count": 0,
      "outputs": []
    }
  ]
}